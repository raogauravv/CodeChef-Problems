{
 "cells": [
  {
   "cell_type": "markdown",
   "metadata": {},
   "source": [
    "# Sum of Digits"
   ]
  },
  {
   "cell_type": "code",
   "execution_count": 1,
   "metadata": {},
   "outputs": [
    {
     "name": "stdout",
     "output_type": "stream",
     "text": [
      "3\n",
      "12345\n",
      "31203\n",
      "2123\n",
      "15\n",
      "9\n",
      "8\n"
     ]
    }
   ],
   "source": [
    "def s(s):\n",
    "    sum=0\n",
    "    while s>0:\n",
    "        sum+=int(s%10)\n",
    "        s=int(s/10)\n",
    "    return sum\n",
    "\n",
    "l=[]\n",
    "n=int(input())\n",
    "for i in range(n):\n",
    "    a=int(input())\n",
    "    s(a)\n",
    "    l.append(s(a))\n",
    "for i in l:\n",
    "    print(i)\n",
    "    "
   ]
  },
  {
   "cell_type": "code",
   "execution_count": null,
   "metadata": {},
   "outputs": [],
   "source": []
  }
 ],
 "metadata": {
  "kernelspec": {
   "display_name": "Python 3",
   "language": "python",
   "name": "python3"
  },
  "language_info": {
   "codemirror_mode": {
    "name": "ipython",
    "version": 3
   },
   "file_extension": ".py",
   "mimetype": "text/x-python",
   "name": "python",
   "nbconvert_exporter": "python",
   "pygments_lexer": "ipython3",
   "version": "3.6.5"
  }
 },
 "nbformat": 4,
 "nbformat_minor": 2
}
