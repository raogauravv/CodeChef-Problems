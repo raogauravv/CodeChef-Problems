{
 "cells": [
  {
   "cell_type": "markdown",
   "metadata": {},
   "source": [
    "# ATM"
   ]
  },
  {
   "cell_type": "code",
   "execution_count": 1,
   "metadata": {},
   "outputs": [
    {
     "name": "stdout",
     "output_type": "stream",
     "text": [
      "300 120.00\n",
      "120.00\n"
     ]
    }
   ],
   "source": [
    "n = list(map(float, input().split())) \n",
    "l=[]\n",
    "l.append(n)\n",
    "#print(l)\n",
    "    \n",
    "if l[0][0]%5==0 and l[0][0]<l[0][1]:\n",
    "    print(\"{0:.2f}\".format(l[0][1]-l[0][0]-0.50))\n",
    "\n",
    "elif l[0][0]%5!=0:\n",
    "    print(\"{0:.2f}\".format(l[0][1]))\n",
    "    \n",
    "else:\n",
    "    print(\"{0:.2f}\".format(l[0][1]))"
   ]
  },
  {
   "cell_type": "code",
   "execution_count": null,
   "metadata": {},
   "outputs": [],
   "source": []
  }
 ],
 "metadata": {
  "kernelspec": {
   "display_name": "Python 3",
   "language": "python",
   "name": "python3"
  },
  "language_info": {
   "codemirror_mode": {
    "name": "ipython",
    "version": 3
   },
   "file_extension": ".py",
   "mimetype": "text/x-python",
   "name": "python",
   "nbconvert_exporter": "python",
   "pygments_lexer": "ipython3",
   "version": "3.6.5"
  }
 },
 "nbformat": 4,
 "nbformat_minor": 2
}
